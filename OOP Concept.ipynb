{
 "cells": [
  {
   "cell_type": "code",
   "execution_count": 1,
   "metadata": {},
   "outputs": [],
   "source": [
    "class car():\n",
    "    pass"
   ]
  },
  {
   "cell_type": "code",
   "execution_count": 3,
   "metadata": {},
   "outputs": [
    {
     "data": {
      "text/plain": [
       "<__main__.car at 0x224535ef438>"
      ]
     },
     "execution_count": 3,
     "metadata": {},
     "output_type": "execute_result"
    }
   ],
   "source": [
    "car1=car()\n",
    "car1"
   ]
  },
  {
   "cell_type": "code",
   "execution_count": 11,
   "metadata": {},
   "outputs": [],
   "source": [
    "car2=car()"
   ]
  },
  {
   "cell_type": "code",
   "execution_count": 4,
   "metadata": {},
   "outputs": [],
   "source": [
    "car1.window=4"
   ]
  },
  {
   "cell_type": "code",
   "execution_count": 5,
   "metadata": {},
   "outputs": [
    {
     "name": "stdout",
     "output_type": "stream",
     "text": [
      "4\n"
     ]
    }
   ],
   "source": [
    "print(car1.window)"
   ]
  },
  {
   "cell_type": "code",
   "execution_count": 6,
   "metadata": {},
   "outputs": [
    {
     "name": "stdout",
     "output_type": "stream",
     "text": [
      "5\n"
     ]
    }
   ],
   "source": [
    "car1.door=5\n",
    "print(car1.door)"
   ]
  },
  {
   "cell_type": "code",
   "execution_count": 7,
   "metadata": {},
   "outputs": [
    {
     "name": "stdout",
     "output_type": "stream",
     "text": [
      "Petrol\n"
     ]
    }
   ],
   "source": [
    "car1.enginetype='Petrol'\n",
    "print(car1.enginetype)"
   ]
  },
  {
   "cell_type": "code",
   "execution_count": 12,
   "metadata": {
    "collapsed": true
   },
   "outputs": [
    {
     "ename": "TypeError",
     "evalue": "car() takes no arguments",
     "output_type": "error",
     "traceback": [
      "\u001b[1;31m---------------------------------------------------------------------------\u001b[0m",
      "\u001b[1;31mTypeError\u001b[0m                                 Traceback (most recent call last)",
      "\u001b[1;32m<ipython-input-12-eab3789324b8>\u001b[0m in \u001b[0;36m<module>\u001b[1;34m()\u001b[0m\n\u001b[1;32m----> 1\u001b[1;33m \u001b[0mcar2\u001b[0m\u001b[1;33m=\u001b[0m\u001b[0mcar\u001b[0m\u001b[1;33m(\u001b[0m\u001b[1;36m4\u001b[0m\u001b[1;33m,\u001b[0m\u001b[1;36m5\u001b[0m\u001b[1;33m,\u001b[0m\u001b[1;34m'Gas'\u001b[0m\u001b[1;33m)\u001b[0m\u001b[1;33m\u001b[0m\u001b[0m\n\u001b[0m",
      "\u001b[1;31mTypeError\u001b[0m: car() takes no arguments"
     ]
    }
   ],
   "source": [
    "car2=car(4,5,'Gas')"
   ]
  },
  {
   "cell_type": "code",
   "execution_count": 13,
   "metadata": {},
   "outputs": [],
   "source": [
    "car2.window=5\n",
    "car2.door=4\n",
    "car2.enginetype='Deisel'"
   ]
  },
  {
   "cell_type": "code",
   "execution_count": 14,
   "metadata": {},
   "outputs": [
    {
     "name": "stdout",
     "output_type": "stream",
     "text": [
      "Deisel\n"
     ]
    }
   ],
   "source": [
    "print(car2.enginetype)"
   ]
  },
  {
   "cell_type": "code",
   "execution_count": 118,
   "metadata": {},
   "outputs": [],
   "source": [
    "class car():\n",
    "    def __init__(self,window,door,enginetype):\n",
    "        self.windows=window\n",
    "        self.doors=door\n",
    "        self.enginetypes=enginetype\n",
    "    def self_driving(self):\n",
    "        return 'This is a {} car'.format(self.enginetypes)"
   ]
  },
  {
   "cell_type": "code",
   "execution_count": 121,
   "metadata": {},
   "outputs": [
    {
     "data": {
      "text/plain": [
       "'This is a Gas car'"
      ]
     },
     "execution_count": 121,
     "metadata": {},
     "output_type": "execute_result"
    }
   ],
   "source": [
    "car2.self_driving()"
   ]
  },
  {
   "cell_type": "markdown",
   "metadata": {},
   "source": [
    "# Class"
   ]
  },
  {
   "cell_type": "code",
   "execution_count": 2,
   "metadata": {},
   "outputs": [],
   "source": [
    "class person:\n",
    "    pass"
   ]
  },
  {
   "cell_type": "code",
   "execution_count": 15,
   "metadata": {},
   "outputs": [
    {
     "name": "stdout",
     "output_type": "stream",
     "text": [
      "<__main__.person object at 0x00000224535EF668>\n",
      "Joe Charles 1995\n"
     ]
    }
   ],
   "source": [
    "class person:\n",
    "    pass\n",
    "\n",
    "p1 = person()\n",
    "p1.name = \"Joe\"\n",
    "p1.surname =\"Charles\"\n",
    "p1.year_of_birth =1995\n",
    "\n",
    "print(p1)\n",
    "print(p1.name,p1.surname,p1.year_of_birth)"
   ]
  },
  {
   "cell_type": "code",
   "execution_count": null,
   "metadata": {},
   "outputs": [],
   "source": [
    "class person:\n",
    "    pass"
   ]
  },
  {
   "cell_type": "markdown",
   "metadata": {},
   "source": [
    "The following example defines an empty class (i.e. the class doesn't have a state) called person then creates a Person instance\n",
    "class three attributes to p1_. We see that we can access objects attributes using the \"dot\" operator.\n",
    "                                              \n",
    "This isn't a recommended style because classes should describe homogeneous entities. A way to do so is the following."
   ]
  },
  {
   "cell_type": "code",
   "execution_count": 16,
   "metadata": {},
   "outputs": [
    {
     "name": "stdout",
     "output_type": "stream",
     "text": [
      "Charles\n"
     ]
    }
   ],
   "source": [
    "class person:\n",
    "    def __init__(self, name, surname, year_of_birthday):\n",
    "        self.name = name\n",
    "        self.surname = surname\n",
    "        self.year_of_birthday = year_of_birthday\n",
    "        \n",
    "x = person('Joe','Charles',1995)\n",
    "print(x.surname)"
   ]
  },
  {
   "cell_type": "markdown",
   "metadata": {},
   "source": [
    "__init_(Self, ...)\n",
    "\n",
    "is a special Python method that is automatically called after an object construction. Its purpose is to initialize every object state. Self is automatically passed either and refers to the object itself.\n",
    "\n",
    "In the preceding example, __init__ adds three attributes to every object that is instantiated.\n",
    "\n",
    "We cannot directly manipulate any class rather we need to create an instance of the class."
   ]
  },
  {
   "cell_type": "code",
   "execution_count": 18,
   "metadata": {},
   "outputs": [
    {
     "name": "stdout",
     "output_type": "stream",
     "text": [
      "<__main__.person object at 0x000002245367B320>\n",
      "Joe Charles was born in 1995.\n"
     ]
    }
   ],
   "source": [
    "x = person('Joe', 'Charles', 1995)\n",
    "print(x)\n",
    "print('%s %s was born in %d.' % (x.name, x.surname, x.year_of_birthday))"
   ]
  },
  {
   "cell_type": "markdown",
   "metadata": {},
   "source": [
    "# Methods"
   ]
  },
  {
   "cell_type": "code",
   "execution_count": 19,
   "metadata": {},
   "outputs": [
    {
     "name": "stdout",
     "output_type": "stream",
     "text": [
      "Joe Charles was born is 1995.\n",
      "Joe\n",
      "25\n"
     ]
    }
   ],
   "source": [
    "class person:\n",
    "    def __init__(a, name, surename, year_of_birthday):\n",
    "        a.name = name\n",
    "        a.surename = surename\n",
    "        a.year_of_birthday = year_of_birthday\n",
    "        \n",
    "    def age(a, Current_age):\n",
    "        return Current_age - a.year_of_birthday\n",
    "    \n",
    "    def __str__(a):\n",
    "        return \"%s %s was born is %d.\" % (a.name,a.surename,a.year_of_birthday)\n",
    "\n",
    "x = person('Joe','Charles',1995)\n",
    "print(x)\n",
    "print(x.name)\n",
    "print(x.age(2020))        "
   ]
  },
  {
   "cell_type": "markdown",
   "metadata": {},
   "source": [
    "### Bad practice"
   ]
  },
  {
   "cell_type": "code",
   "execution_count": 20,
   "metadata": {},
   "outputs": [],
   "source": [
    "class person:\n",
    "    \n",
    "    def set_name(self,name):\n",
    "        self.name = name\n",
    "    \n",
    "    def set_surename(self,surename):\n",
    "        self.surname = surename\n",
    "        \n",
    "    def set_year_of_birthday(self,year_of_birthday):\n",
    "        self.year_of_birthday = year_of_birthday\n",
    "                    \n",
    "    def age(self, current_age):\n",
    "        current_age - self.year_of_birthday\n",
    "        \n",
    "    def __str__(self):\n",
    "        return \"%s %s was born in %d.\" % (self.name, self.surename, self.year_of_birthday)\n",
    "    "
   ]
  },
  {
   "cell_type": "code",
   "execution_count": 21,
   "metadata": {},
   "outputs": [],
   "source": [
    "president = person()"
   ]
  },
  {
   "cell_type": "code",
   "execution_count": 22,
   "metadata": {},
   "outputs": [
    {
     "name": "stdout",
     "output_type": "stream",
     "text": [
      "<bound method person.set_surename of <__main__.person object at 0x000002245367B278>>\n"
     ]
    }
   ],
   "source": [
    "print(president.set_surename)"
   ]
  },
  {
   "cell_type": "code",
   "execution_count": 23,
   "metadata": {},
   "outputs": [],
   "source": [
    "president.set_name =\"Joe\"\n",
    "president.set_surename =\"Charles\"\n",
    "president.set_year_of_birthday =1995"
   ]
  },
  {
   "cell_type": "code",
   "execution_count": 24,
   "metadata": {},
   "outputs": [
    {
     "name": "stdout",
     "output_type": "stream",
     "text": [
      "Mr. Joe Charles is a very old president of India. He is born in 1995\n"
     ]
    }
   ],
   "source": [
    "print('Mr.', president.set_name, president.set_surename, 'is a very old president of India. He is born in', president.set_year_of_birthday)"
   ]
  },
  {
   "cell_type": "markdown",
   "metadata": {},
   "source": [
    "Protect Method "
   ]
  },
  {
   "cell_type": "code",
   "execution_count": 25,
   "metadata": {},
   "outputs": [
    {
     "name": "stdout",
     "output_type": "stream",
     "text": [
      "Joe\n"
     ]
    }
   ],
   "source": [
    "class person:\n",
    "    \n",
    "    def __init__(self,name,surename,year_of_birthday):\n",
    "        self._name = name\n",
    "        self._surename = surename\n",
    "        self._year_of_birthday = year_of_birthday\n",
    "        \n",
    "    def age(self,current_age):\n",
    "        return current_age - self.year_of_birthday\n",
    "        \n",
    "    def __str__(self):\n",
    "        return \"%s %s was born in %d.\" % (self._name,self._surename,self._year_of_birthday)\n",
    "    \n",
    "b = person('Joe','Charles', 1995)\n",
    "print(b._name)\n",
    "#print(b._person_surename)\n",
    "#print(b._person_year_of_birthday)"
   ]
  },
  {
   "cell_type": "markdown",
   "metadata": {},
   "source": [
    "Private method"
   ]
  },
  {
   "cell_type": "code",
   "execution_count": 26,
   "metadata": {},
   "outputs": [
    {
     "name": "stdout",
     "output_type": "stream",
     "text": [
      "Joe\n",
      "Charles\n",
      "1995\n"
     ]
    }
   ],
   "source": [
    "class person:\n",
    "    \n",
    "    def __init__(self,name,surename,year_of_birthday):\n",
    "        self.__name = name\n",
    "        self.__surename = surename\n",
    "        self.__year_of_birthday = year_of_birthday\n",
    "        \n",
    "    def age(self,current_age):\n",
    "        return current_age - self.year_of_birthday\n",
    "        \n",
    "    def __str__(self):\n",
    "        return \"%s %s was born in %d.\" % (self.__name,self.__surename,self.__year_of_birthday)\n",
    "    \n",
    "b = person('Joe','Charles', 1995)\n",
    "print(b._person__name)\n",
    "print(b._person__surename)\n",
    "print(b._person__year_of_birthday)"
   ]
  },
  {
   "cell_type": "markdown",
   "metadata": {},
   "source": [
    "# Inheritance"
   ]
  },
  {
   "cell_type": "code",
   "execution_count": 27,
   "metadata": {},
   "outputs": [
    {
     "name": "stdout",
     "output_type": "stream",
     "text": [
      "Joe\n",
      "<class '__main__.student'>\n",
      "True\n",
      "True\n"
     ]
    }
   ],
   "source": [
    "class student(person):\n",
    "    def __init__(self, student_id, *args):\n",
    "        super(student, self).__init__(*args)\n",
    "        self.student_id = student_id\n",
    "        \n",
    "Result = student(1,'Joe','Charles',1995)\n",
    "print(Result._person__name)\n",
    "print(type(Result))\n",
    "print(isinstance(Result,person))\n",
    "print(isinstance(Result,object))"
   ]
  },
  {
   "cell_type": "code",
   "execution_count": 43,
   "metadata": {
    "collapsed": true
   },
   "outputs": [
    {
     "name": "stdout",
     "output_type": "stream",
     "text": [
      "Joe Charles was born in 1995.And his ID 1.\n"
     ]
    }
   ],
   "source": [
    "class student(person):\n",
    "    \n",
    "    def __init__(self, student_id, *args, **kwargs):\n",
    "        super(student, self).__init__(*args, **kwargs)\n",
    "        self.student_id = student_id\n",
    "        \n",
    "    def __str__(self):\n",
    "        return super(student, self).__str__() + 'And his ID %d.' % (self.student_id)\n",
    "    \n",
    "result = student(1, 'Joe', 'Charles', 1995)\n",
    "print(result)"
   ]
  },
  {
   "cell_type": "markdown",
   "metadata": {},
   "source": [
    "# Encapsulation"
   ]
  },
  {
   "cell_type": "code",
   "execution_count": null,
   "metadata": {},
   "outputs": [],
   "source": [
    "#Composition encapsulation\n",
    "#Dynamic encapsulation"
   ]
  },
  {
   "cell_type": "code",
   "execution_count": 53,
   "metadata": {
    "collapsed": true
   },
   "outputs": [
    {
     "name": "stdout",
     "output_type": "stream",
     "text": [
      "Tyres : \n",
      " \t Branch :Ceat\n",
      " \t belted_bias :True\n",
      " \t Optimal pressure :2.0\n",
      "Engines : \n",
      " \t fuel_type :Deiseal\n",
      " \t noise level :3\n",
      "Body : \n",
      " \t Fuel types :Medium\n"
     ]
    }
   ],
   "source": [
    "class Tyres:\n",
    "    def __init__(self, branch, belted_bias, opt_pressure):\n",
    "        self.branch = branch\n",
    "        self.belted_bias = belted_bias\n",
    "        self.opt_pressure = opt_pressure\n",
    "    \n",
    "    def __str__(self):\n",
    "        return (\"Tyres : \\n \\t Branch :\"  + self.branch +\n",
    "                \"\\n \\t belted_bias :\" + str(self.belted_bias)+\n",
    "                \"\\n \\t Optimal pressure :\" +str(self.opt_pressure))\n",
    "    \n",
    "class engines:\n",
    "    def __init__(self, fuel_type, noise_level):\n",
    "        self.fuel_type = fuel_type\n",
    "        self.noise_level = noise_level\n",
    "    \n",
    "    def __str__(self):\n",
    "        return (\"Engines : \\n \\t fuel_type :\" +self.fuel_type +\n",
    "                \"\\n \\t noise level :\" + str(self.noise_level))\n",
    "    \n",
    "class body:\n",
    "    def __init__(self, size):\n",
    "        self.size = size\n",
    "        \n",
    "    def __str__(self):\n",
    "        return \"Body : \\n \\t Fuel types :\" + self.size\n",
    "\n",
    "class car:\n",
    "    def __init__(self, Tyres, engines, body):\n",
    "        self.Tyres = Tyres\n",
    "        self.engines = engines\n",
    "        self.body = body\n",
    "       \n",
    "    def __str__(self):\n",
    "        return str(self.Tyres) + \"\\n\" + str(self.engines) +\"\\n\"+ str(self.body)\n",
    "t = Tyres('Ceat', True, 2.0)\n",
    "e = engines('Deiseal', 3)\n",
    "b = body('Medium')\n",
    "c = car(t, e, b)\n",
    "print(c)"
   ]
  },
  {
   "cell_type": "code",
   "execution_count": 55,
   "metadata": {},
   "outputs": [
    {
     "name": "stdout",
     "output_type": "stream",
     "text": [
      "Kudujavka is a Laika born in 1996.\n"
     ]
    }
   ],
   "source": [
    "#Dynamic encapsulation\n",
    "class Dog:\n",
    "    \n",
    "    def __init__(self, name, breed, year_Of_birthday):\n",
    "        self.name = name\n",
    "        self.breed = breed\n",
    "        self.year_Of_birthday = year_Of_birthday\n",
    "        \n",
    "    def __str__(self):\n",
    "        return \"%s is a %s born in %d.\" % (self.name, self.breed, self.year_Of_birthday)\n",
    "    \n",
    "kudrjavka = Dog('Kudujavka', 'Laika', 1996)\n",
    "print(kudrjavka)"
   ]
  },
  {
   "cell_type": "code",
   "execution_count": 61,
   "metadata": {
    "collapsed": true
   },
   "outputs": [
    {
     "name": "stdout",
     "output_type": "stream",
     "text": [
      "Joe Charles was born in 1995. student id is 1.\n",
      "Kudujavka is a Laika born in 1996. student id is 2.\n"
     ]
    }
   ],
   "source": [
    "class student:\n",
    "    \n",
    "    def __init__(self, anagraphic, student_id):\n",
    "        self.anagraphic = anagraphic\n",
    "        self.student_id = student_id\n",
    "        \n",
    "    def __str__(self):\n",
    "        return str(self.anagraphic) + \" student id is %d.\" % self.student_id\n",
    "    \n",
    "x_student = student(Result,1)\n",
    "kudrjavka_students = student(kudrjavka,2)\n",
    "\n",
    "print(x_student)\n",
    "print(kudrjavka_students)"
   ]
  },
  {
   "cell_type": "code",
   "execution_count": null,
   "metadata": {},
   "outputs": [],
   "source": []
  }
 ],
 "metadata": {
  "kernelspec": {
   "display_name": "Python 3",
   "language": "python",
   "name": "python3"
  },
  "language_info": {
   "codemirror_mode": {
    "name": "ipython",
    "version": 3
   },
   "file_extension": ".py",
   "mimetype": "text/x-python",
   "name": "python",
   "nbconvert_exporter": "python",
   "pygments_lexer": "ipython3",
   "version": "3.7.0"
  }
 },
 "nbformat": 4,
 "nbformat_minor": 2
}
